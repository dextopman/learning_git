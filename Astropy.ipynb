{
  "nbformat": 4,
  "nbformat_minor": 0,
  "metadata": {
    "colab": {
      "name": "Astropy.ipynb",
      "provenance": [],
      "collapsed_sections": [],
      "authorship_tag": "ABX9TyNqXhTnR9sZj3a3gLuRKDHx",
      "include_colab_link": true
    },
    "kernelspec": {
      "name": "python3",
      "display_name": "Python 3"
    },
    "language_info": {
      "name": "python"
    }
  },
  "cells": [
    {
      "cell_type": "markdown",
      "metadata": {
        "id": "view-in-github",
        "colab_type": "text"
      },
      "source": [
        "<a href=\"https://colab.research.google.com/github/dextopman/learning_git/blob/master/Astropy.ipynb\" target=\"_parent\"><img src=\"https://colab.research.google.com/assets/colab-badge.svg\" alt=\"Open In Colab\"/></a>"
      ]
    },
    {
      "cell_type": "markdown",
      "source": [
        "Beginning\n"
      ],
      "metadata": {
        "id": "5AS0YgpD96Bc"
      }
    },
    {
      "cell_type": "code",
      "execution_count": 1,
      "metadata": {
        "id": "GXbAIQkR9RME"
      },
      "outputs": [],
      "source": [
        "import numpy as np\n",
        "from astropy.constants import G"
      ]
    },
    {
      "cell_type": "code",
      "source": [
        "print(G)"
      ],
      "metadata": {
        "colab": {
          "base_uri": "https://localhost:8080/"
        },
        "id": "qFpBNHZ--VqF",
        "outputId": "b12376b8-712a-4e98-95bf-659523819748"
      },
      "execution_count": 2,
      "outputs": [
        {
          "output_type": "stream",
          "name": "stdout",
          "text": [
            "  Name   = Gravitational constant\n",
            "  Value  = 6.6743e-11\n",
            "  Uncertainty  = 1.5e-15\n",
            "  Unit  = m3 / (kg s2)\n",
            "  Reference = CODATA 2018\n"
          ]
        }
      ]
    },
    {
      "cell_type": "code",
      "source": [
        "from astropy import constants as ct\n",
        "print(ct)"
      ],
      "metadata": {
        "colab": {
          "base_uri": "https://localhost:8080/"
        },
        "id": "oShpew1p-rq3",
        "outputId": "0cbbba3e-b03a-4dff-e8e2-1223e3910b2e"
      },
      "execution_count": 3,
      "outputs": [
        {
          "output_type": "stream",
          "name": "stdout",
          "text": [
            "<module 'astropy.constants' from '/usr/local/lib/python3.7/dist-packages/astropy/constants/__init__.py'>\n"
          ]
        }
      ]
    },
    {
      "cell_type": "code",
      "source": [
        "print(ct.G)"
      ],
      "metadata": {
        "colab": {
          "base_uri": "https://localhost:8080/"
        },
        "id": "6CbVnFud_T0z",
        "outputId": "9c3544e1-3437-41b6-a0c0-4e5079f73793"
      },
      "execution_count": 4,
      "outputs": [
        {
          "output_type": "stream",
          "name": "stdout",
          "text": [
            "  Name   = Gravitational constant\n",
            "  Value  = 6.6743e-11\n",
            "  Uncertainty  = 1.5e-15\n",
            "  Unit  = m3 / (kg s2)\n",
            "  Reference = CODATA 2018\n"
          ]
        }
      ]
    },
    {
      "cell_type": "code",
      "source": [
        "print(ct.c)\n",
        "print(ct.c.to('pc/yr'))"
      ],
      "metadata": {
        "colab": {
          "base_uri": "https://localhost:8080/"
        },
        "id": "GLw1IeM8_fHR",
        "outputId": "ddf828e2-02c0-4035-a04d-c94916a7c3c8"
      },
      "execution_count": 5,
      "outputs": [
        {
          "output_type": "stream",
          "name": "stdout",
          "text": [
            "  Name   = Speed of light in vacuum\n",
            "  Value  = 299792458.0\n",
            "  Uncertainty  = 0.0\n",
            "  Unit  = m / s\n",
            "  Reference = CODATA 2018\n",
            "0.30660139378555057 pc / yr\n"
          ]
        }
      ]
    },
    {
      "cell_type": "code",
      "source": [
        "from astropy.constants import codata2014 as const\n",
        "print(const.alpha)"
      ],
      "metadata": {
        "colab": {
          "base_uri": "https://localhost:8080/"
        },
        "id": "yftVs82oAaTk",
        "outputId": "1cbdea5d-4d00-438e-9845-e82132600ef2"
      },
      "execution_count": 6,
      "outputs": [
        {
          "output_type": "stream",
          "name": "stdout",
          "text": [
            "  Name   = Fine-structure constant\n",
            "  Value  = 0.0072973525664\n",
            "  Uncertainty  = 1.7e-12\n",
            "  Unit  = \n",
            "  Reference = CODATA 2014\n"
          ]
        }
      ]
    },
    {
      "cell_type": "code",
      "source": [
        "print(const.h)"
      ],
      "metadata": {
        "colab": {
          "base_uri": "https://localhost:8080/"
        },
        "id": "z4t4N8QFBbEu",
        "outputId": "4d36b45f-6b72-48b6-b4fd-3cfa6ad8f934"
      },
      "execution_count": 7,
      "outputs": [
        {
          "output_type": "stream",
          "name": "stdout",
          "text": [
            "  Name   = Planck constant\n",
            "  Value  = 6.62607004e-34\n",
            "  Uncertainty  = 8.1e-42\n",
            "  Unit  = J s\n",
            "  Reference = CODATA 2014\n"
          ]
        }
      ]
    },
    {
      "cell_type": "code",
      "source": [
        "from astropy.constants import iau2012 as constant\n",
        "print(constant.M_jup)\n",
        "print(constant.M_sun)"
      ],
      "metadata": {
        "colab": {
          "base_uri": "https://localhost:8080/"
        },
        "id": "okuQIm03Bg0k",
        "outputId": "a6bba20c-3b31-4953-ec50-c0e48f16a5f3"
      },
      "execution_count": 9,
      "outputs": [
        {
          "output_type": "stream",
          "name": "stdout",
          "text": [
            "  Name   = Jupiter mass\n",
            "  Value  = 1.8987e+27\n",
            "  Uncertainty  = 5e+22\n",
            "  Unit  = kg\n",
            "  Reference = Allen's Astrophysical Quantities 4th Ed.\n",
            "  Name   = Solar mass\n",
            "  Value  = 1.9891e+30\n",
            "  Uncertainty  = 5e+25\n",
            "  Unit  = kg\n",
            "  Reference = Allen's Astrophysical Quantities 4th Ed.\n"
          ]
        }
      ]
    },
    {
      "cell_type": "code",
      "source": [
        "print(ct.R_earth)"
      ],
      "metadata": {
        "colab": {
          "base_uri": "https://localhost:8080/"
        },
        "id": "iDipBCu9CDX2",
        "outputId": "5e7d9feb-648b-4ffb-da82-1e79bb165963"
      },
      "execution_count": 10,
      "outputs": [
        {
          "output_type": "stream",
          "name": "stdout",
          "text": [
            "  Name   = Nominal Earth equatorial radius\n",
            "  Value  = 6378100.0\n",
            "  Uncertainty  = 0.0\n",
            "  Unit  = m\n",
            "  Reference = IAU 2015 Resolution B 3\n"
          ]
        }
      ]
    },
    {
      "cell_type": "code",
      "source": [
        "print(ct.R_earth.to('au'))"
      ],
      "metadata": {
        "colab": {
          "base_uri": "https://localhost:8080/"
        },
        "id": "soBP4MMLDulI",
        "outputId": "7345c1e5-34ba-4ba5-bbf3-43f8bcb199bb"
      },
      "execution_count": 11,
      "outputs": [
        {
          "output_type": "stream",
          "name": "stdout",
          "text": [
            "4.263496512454037e-05 AU\n"
          ]
        }
      ]
    },
    {
      "cell_type": "code",
      "source": [
        "print(ct.R_sun.to('au'))"
      ],
      "metadata": {
        "colab": {
          "base_uri": "https://localhost:8080/"
        },
        "id": "TeUDJkmND6Ze",
        "outputId": "2593e567-3a5a-40cc-fca0-40e33826c5cf"
      },
      "execution_count": 13,
      "outputs": [
        {
          "output_type": "stream",
          "name": "stdout",
          "text": [
            "0.004650467260962157 AU\n"
          ]
        }
      ]
    },
    {
      "cell_type": "code",
      "source": [
        "print(ct.m_e)\n",
        "print(ct.m_n)\n",
        "print(ct.m_p)"
      ],
      "metadata": {
        "colab": {
          "base_uri": "https://localhost:8080/"
        },
        "id": "L-XVHPaGEQ7d",
        "outputId": "b7925b78-cc2c-4e1e-8b98-5524b1264a8d"
      },
      "execution_count": 14,
      "outputs": [
        {
          "output_type": "stream",
          "name": "stdout",
          "text": [
            "  Name   = Electron mass\n",
            "  Value  = 9.1093837015e-31\n",
            "  Uncertainty  = 2.8e-40\n",
            "  Unit  = kg\n",
            "  Reference = CODATA 2018\n",
            "  Name   = Neutron mass\n",
            "  Value  = 1.67492749804e-27\n",
            "  Uncertainty  = 9.5e-37\n",
            "  Unit  = kg\n",
            "  Reference = CODATA 2018\n",
            "  Name   = Proton mass\n",
            "  Value  = 1.67262192369e-27\n",
            "  Uncertainty  = 5.1e-37\n",
            "  Unit  = kg\n",
            "  Reference = CODATA 2018\n"
          ]
        }
      ]
    },
    {
      "cell_type": "code",
      "source": [
        "print(ct.m_e.to('g'))"
      ],
      "metadata": {
        "colab": {
          "base_uri": "https://localhost:8080/"
        },
        "id": "YD6laDCzEuLX",
        "outputId": "e93a937e-8991-42d3-8cd0-635d039b69bd"
      },
      "execution_count": 16,
      "outputs": [
        {
          "output_type": "stream",
          "name": "stdout",
          "text": [
            "9.1093837015e-28 g\n"
          ]
        }
      ]
    },
    {
      "cell_type": "code",
      "source": [
        "print(ct.set_enabled_constants)"
      ],
      "metadata": {
        "colab": {
          "base_uri": "https://localhost:8080/"
        },
        "id": "nrdtLCoqFBEQ",
        "outputId": "55310ee0-277c-4801-90a3-bb2a3a7555fc"
      },
      "execution_count": 19,
      "outputs": [
        {
          "output_type": "stream",
          "name": "stdout",
          "text": [
            "<function set_enabled_constants at 0x7f3469861a70>\n"
          ]
        }
      ]
    },
    {
      "cell_type": "code",
      "source": [
        "from astropy import units as u"
      ],
      "metadata": {
        "id": "234aEeT2G9zD"
      },
      "execution_count": 21,
      "outputs": []
    },
    {
      "cell_type": "code",
      "source": [
        "v = 100 * u.km"
      ],
      "metadata": {
        "id": "V157RZ6KHblb"
      },
      "execution_count": 22,
      "outputs": []
    },
    {
      "cell_type": "code",
      "source": [
        "v.unit"
      ],
      "metadata": {
        "colab": {
          "base_uri": "https://localhost:8080/",
          "height": 37
        },
        "id": "bj-ZlFoCHzBu",
        "outputId": "f7825cd7-8b3e-4477-8cd3-36850141e547"
      },
      "execution_count": 23,
      "outputs": [
        {
          "output_type": "execute_result",
          "data": {
            "text/plain": [
              "Unit(\"km\")"
            ],
            "text/latex": "$\\mathrm{km}$"
          },
          "metadata": {},
          "execution_count": 23
        }
      ]
    },
    {
      "cell_type": "code",
      "source": [
        "40304 * u.km / 900 * u.hour"
      ],
      "metadata": {
        "colab": {
          "base_uri": "https://localhost:8080/",
          "height": 37
        },
        "id": "ECd8gb3uH3OZ",
        "outputId": "44e36030-84b7-4703-f6ed-e342d705ca9b"
      },
      "execution_count": 24,
      "outputs": [
        {
          "output_type": "execute_result",
          "data": {
            "text/plain": [
              "<Quantity 44.78222222 h km>"
            ],
            "text/latex": "$44.782222 \\; \\mathrm{h\\,km}$"
          },
          "metadata": {},
          "execution_count": 24
        }
      ]
    },
    {
      "cell_type": "code",
      "source": [
        "q = 15.1 * u.meter / (32.0 * u.second)\n",
        "print(q)"
      ],
      "metadata": {
        "colab": {
          "base_uri": "https://localhost:8080/"
        },
        "id": "onIkZE4NIYFO",
        "outputId": "879842a4-4dfc-4a0d-b2ec-bca8b9c66126"
      },
      "execution_count": 25,
      "outputs": [
        {
          "output_type": "stream",
          "name": "stdout",
          "text": [
            "0.471875 m / s\n"
          ]
        }
      ]
    },
    {
      "cell_type": "code",
      "source": [
        ""
      ],
      "metadata": {
        "id": "jjKG_9o0IpzJ"
      },
      "execution_count": null,
      "outputs": []
    }
  ]
}